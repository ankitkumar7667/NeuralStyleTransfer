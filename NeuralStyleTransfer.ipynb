{
  "nbformat": 4,
  "nbformat_minor": 0,
  "metadata": {
    "colab": {
      "provenance": []
    },
    "kernelspec": {
      "name": "python3",
      "display_name": "Python 3"
    },
    "language_info": {
      "name": "python"
    },
    "accelerator": "TPU"
  },
  "cells": [
    {
      "cell_type": "code",
      "execution_count": null,
      "metadata": {
        "id": "nPNTk0ItMoVh"
      },
      "outputs": [],
      "source": [
        "import torch\n",
        "import torchvision.transforms as transforms\n",
        "from PIL import Image\n",
        "import torch.nn as nn\n",
        "import torchvision.models as models\n",
        "import torch.optim as optim\n",
        "from torchvision.utils import save_image"
      ]
    },
    {
      "cell_type": "code",
      "source": [
        "# preloading vgg19\n",
        "model = models.vgg19(pretrained =True).features\n",
        "# Assigning GPU \n",
        "device=torch.device( \"cuda\" if (torch.cuda.is_available()) else 'cpu')"
      ],
      "metadata": {
        "colab": {
          "base_uri": "https://localhost:8080/"
        },
        "id": "FZ2SZiGHOTbk",
        "outputId": "611043cc-ad96-40c8-a554-7000ac89efb1"
      },
      "execution_count": null,
      "outputs": [
        {
          "output_type": "stream",
          "name": "stderr",
          "text": [
            "/usr/local/lib/python3.10/dist-packages/torchvision/models/_utils.py:208: UserWarning: The parameter 'pretrained' is deprecated since 0.13 and may be removed in the future, please use 'weights' instead.\n",
            "  warnings.warn(\n",
            "/usr/local/lib/python3.10/dist-packages/torchvision/models/_utils.py:223: UserWarning: Arguments other than a weight enum or `None` for 'weights' are deprecated since 0.13 and may be removed in the future. The current behavior is equivalent to passing `weights=VGG19_Weights.IMAGENET1K_V1`. You can also use `weights=VGG19_Weights.DEFAULT` to get the most up-to-date weights.\n",
            "  warnings.warn(msg)\n",
            "Downloading: \"https://download.pytorch.org/models/vgg19-dcbb9e9d.pth\" to /root/.cache/torch/hub/checkpoints/vgg19-dcbb9e9d.pth\n",
            "100%|██████████| 548M/548M [00:05<00:00, 110MB/s]\n"
          ]
        }
      ]
    },
    {
      "cell_type": "code",
      "source": [
        "#defing a function that will load the image and perform the required preprocessing and put it on the GPU\n",
        "def image_loader(path):\n",
        "    image=Image.open(path)\n",
        "    #defining the image transformation steps to be performed before feeding them to the model\n",
        "    loader=transforms.Compose([transforms.Resize((512,512)), transforms.ToTensor()])\n",
        "    #The preprocessing steps involves resizing the image and then converting it to a tensor\n",
        "    image=loader(image).unsqueeze(0)\n",
        "    return image.to(device,torch.float)\n",
        "\n",
        "#Loading the original and the style image\n",
        "original_image=image_loader('Nikola-Tesla.jpg')\n",
        "style_image=image_loader('style Image.jpg')\n",
        "\n",
        "#Creating the generated image from the original image\n",
        "generated_image=original_image.clone().requires_grad_(True)"
      ],
      "metadata": {
        "id": "3Py9AIHcYxbK"
      },
      "execution_count": null,
      "outputs": []
    },
    {
      "cell_type": "code",
      "source": [
        "#Defining a class that for the model\n",
        "class VGG(nn.Module):\n",
        "    def __init__(self):\n",
        "        super(VGG,self).__init__()\n",
        "        self.req_features= ['0','5','10','19','28'] \n",
        "        #Since we need only the 5 layers in the model so we will be dropping all the rest layers from the features of the model\n",
        "        self.model=models.vgg19(pretrained=True).features[:29] #model will contain the first 29 layers\n",
        "    \n",
        "   \n",
        "    #x holds the input tensor(image) that will be feeded to each layer\n",
        "    def forward(self,x):\n",
        "        #initialize an array that wil hold the activations from the chosen layers\n",
        "        features=[]\n",
        "        #Iterate over all the layers of the mode\n",
        "        for layer_num,layer in enumerate(self.model):\n",
        "            #activation of the layer will stored in x\n",
        "            x=layer(x)\n",
        "            #appending the activation of the selected layers and return the feature array\n",
        "            if (str(layer_num) in self.req_features):\n",
        "                features.append(x)\n",
        "                \n",
        "        return features"
      ],
      "metadata": {
        "id": "1sEvvkNE4qMm"
      },
      "execution_count": null,
      "outputs": []
    },
    {
      "cell_type": "code",
      "source": [
        "def calc_content_loss(gen_feat,orig_feat):\n",
        "\n",
        "  content_l = torch.mean((gen_feat-orig_feat)**2)\n",
        "  return content_l"
      ],
      "metadata": {
        "id": "hyRGMXe2QXZs"
      },
      "execution_count": null,
      "outputs": []
    },
    {
      "cell_type": "code",
      "source": [
        "def calc_style_loss(gen,style):\n",
        "  # calculate the gram matrix with style and generated image\n",
        "  batch_size,channel,height,width = gen.shape\n",
        "\n",
        "  G = torch.mm(gen.view(channel,height* width),gen.view(channel,height*width).t())\n",
        "  A = torch.mm(style.view(channel,height* width),style.view(channel,height*width).t())\n",
        "  # calculate style loss of each layer\n",
        "\n",
        "  style_l = torch.mean((G-A)**2)\n",
        "  return style_l"
      ],
      "metadata": {
        "id": "thYFC7BWQ6R3"
      },
      "execution_count": null,
      "outputs": []
    },
    {
      "cell_type": "code",
      "source": [
        "def calculate_loss(gen_features, orig_features, style_features):\n",
        "  style_loss = content_loss = 0\n",
        "\n",
        "  for gen,cont, style in zip(gen_features,orig_features,style_features):\n",
        "    content_loss += calc_content_loss(gen,cont)\n",
        "    style_loss += calc_style_loss(gen,style)\n",
        "\n",
        "  # calculating the total loss of the epoch\n",
        "  total_loss = alpha*content_loss +beta*style_loss\n",
        "  return total_loss"
      ],
      "metadata": {
        "id": "XrbxcT4Gk3oH"
      },
      "execution_count": null,
      "outputs": []
    },
    {
      "cell_type": "code",
      "source": [
        "#Load the model to the GPU\n",
        "model=VGG().to(device).eval() \n",
        "\n",
        "#initialize the paramerters required for fitting the model\n",
        "epoch=7000\n",
        "lr=0.004\n",
        "alpha=8\n",
        "beta=70\n",
        "\n",
        "#using adam optimizer and it will update the generated image not the model parameter \n",
        "optimizer=optim.Adam([generated_image],lr=lr)"
      ],
      "metadata": {
        "id": "izKjOJlFqOWa"
      },
      "execution_count": null,
      "outputs": []
    },
    {
      "cell_type": "code",
      "source": [
        "for e in range(epoch):\n",
        "  gen_features = model(generated_image)\n",
        "  orig_features = model(original_image)\n",
        "  style_features = model(style_image)\n",
        "\n",
        "  total_loss = calculate_loss(gen_features,orig_features,style_features)\n",
        "\n",
        "  optimizer.zero_grad()\n",
        "  total_loss.backward()\n",
        "\n",
        "  optimizer.step()\n",
        "\n",
        "  if(e/100):\n",
        "    print(total_loss)\n",
        "\n",
        "    save_image(generated_image,\"gen.png\")"
      ],
      "metadata": {
        "colab": {
          "base_uri": "https://localhost:8080/"
        },
        "id": "USMOojdoqifg",
        "outputId": "9c3b5cb1-4775-4cf3-b30c-6c105ed7e61d"
      },
      "execution_count": null,
      "outputs": [
        {
          "output_type": "stream",
          "name": "stdout",
          "text": [
            "tensor(5.9008e+09, grad_fn=<AddBackward0>)\n",
            "tensor(5.0307e+09, grad_fn=<AddBackward0>)\n",
            "tensor(4.2468e+09, grad_fn=<AddBackward0>)\n",
            "tensor(3.6002e+09, grad_fn=<AddBackward0>)\n",
            "tensor(3.0786e+09, grad_fn=<AddBackward0>)\n",
            "tensor(2.6581e+09, grad_fn=<AddBackward0>)\n",
            "tensor(2.3021e+09, grad_fn=<AddBackward0>)\n",
            "tensor(2.0152e+09, grad_fn=<AddBackward0>)\n"
          ]
        }
      ]
    },
    {
      "cell_type": "code",
      "source": [],
      "metadata": {
        "id": "MYDSjVYYr72J"
      },
      "execution_count": null,
      "outputs": []
    }
  ]
}